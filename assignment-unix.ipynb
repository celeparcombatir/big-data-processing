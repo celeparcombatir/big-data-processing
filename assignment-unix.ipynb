{
 "cells": [
  {
   "cell_type": "markdown",
   "metadata": {},
   "source": [
    "# Assignment: Unix\n",
    "\n",
    "### Wouter Zorgdrager and Georgios Gousios"
   ]
  },
  {
   "cell_type": "markdown",
   "metadata": {},
   "source": [
    "As we have seen during the lecture, the Unix command line is extremely\n",
    "versatile. This comes at a cost: you need to know which tool is suitable for the\n",
    "job or to build it. For this assignment, you will have to use a Unix command line \n",
    "(i.e. in the course's VM, a Mac or Ubuntu for Windows) \n",
    "to accomplish the indicated tasks. Not all tools you\n",
    "will need are readily available in the default installation of Xubuntu that we \n",
    "are using in the course. You need to search online (or implement!) for \n",
    "the appropriate tools and command line options.\n",
    "\n",
    "_Note_: To develop and run those commands in Jupyter, you need to install the\n",
    "[Bash kernel](https://github.com/takluyver/bash_kernel). Alternatively, you\n",
    "can create a file where you paste all programs/pipelines, print it and upload\n",
    "it to the assignment directory.\n",
    "\n",
    "There **120** points to collect. To get a 10, you need **110**."
   ]
  },
  {
   "cell_type": "markdown",
   "metadata": {},
   "source": [
    "## Shell programming"
   ]
  },
  {
   "cell_type": "markdown",
   "metadata": {},
   "source": [
    "**Q1 (10 points)** Write a pipeline that converts (recursively!) a directory\n",
    "structure full of `.wav` files to `.mp3`s."
   ]
  },
  {
   "cell_type": "code",
   "execution_count": 1,
   "metadata": {
    "cell_id": "q1"
   },
   "outputs": [
    {
     "name": "stdout",
     "output_type": "stream",
     "text": [
      "ffmpeg version 2.8.15-0ubuntu0.16.04.1 Copyright (c) 2000-2018 the FFmpeg developers\n",
      "  built with gcc 5.4.0 (Ubuntu 5.4.0-6ubuntu1~16.04.10) 20160609\n",
      "  configuration: --prefix=/usr --extra-version=0ubuntu0.16.04.1 --build-suffix=-ffmpeg --toolchain=hardened --libdir=/usr/lib/x86_64-linux-gnu --incdir=/usr/include/x86_64-linux-gnu --cc=cc --cxx=g++ --enable-gpl --enable-shared --disable-stripping --disable-decoder=libopenjpeg --disable-decoder=libschroedinger --enable-avresample --enable-avisynth --enable-gnutls --enable-ladspa --enable-libass --enable-libbluray --enable-libbs2b --enable-libcaca --enable-libcdio --enable-libflite --enable-libfontconfig --enable-libfreetype --enable-libfribidi --enable-libgme --enable-libgsm --enable-libmodplug --enable-libmp3lame --enable-libopenjpeg --enable-libopus --enable-libpulse --enable-librtmp --enable-libschroedinger --enable-libshine --enable-libsnappy --enable-libsoxr --enable-libspeex --enable-libssh --enable-libtheora --enable-libtwolame --enable-libvorbis --enable-libvpx --enable-libwavpack --enable-libwebp --enable-libx265 --enable-libxvid --enable-libzvbi --enable-openal --enable-opengl --enable-x11grab --enable-libdc1394 --enable-libiec61883 --enable-libzmq --enable-frei0r --enable-libx264 --enable-libopencv\n",
      "  libavutil      54. 31.100 / 54. 31.100\n",
      "  libavcodec     56. 60.100 / 56. 60.100\n",
      "  libavformat    56. 40.101 / 56. 40.101\n",
      "  libavdevice    56.  4.100 / 56.  4.100\n",
      "  libavfilter     5. 40.101 /  5. 40.101\n",
      "  libavresample   2.  1.  0 /  2.  1.  0\n",
      "  libswscale      3.  1.101 /  3.  1.101\n",
      "  libswresample   1.  2.101 /  1.  2.101\n",
      "  libpostproc    53.  3.100 / 53.  3.100\n",
      "\u001b[0;33mGuessed Channel Layout for  Input Stream #0.0 : mono\n",
      "\u001b[0mInput #0, wav, from './music/sample.wav':\n",
      "  Duration: 00:00:03.40, bitrate: 88 kb/s\n",
      "    Stream #0:0: Audio: pcm_u8 ([1][0][0][0] / 0x0001), 11025 Hz, 1 channels, u8, 88 kb/s\n",
      "Output #0, mp3, to './music/sample.mp3':\n",
      "  Metadata:\n",
      "    TSSE            : Lavf56.40.101\n",
      "    Stream #0:0: Audio: mp3 (libmp3lame), 11025 Hz, mono, s16p, 128 kb/s\n",
      "    Metadata:\n",
      "      encoder         : Lavc56.60.100 libmp3lame\n",
      "Stream mapping:\n",
      "  Stream #0:0 -> #0:0 (pcm_u8 (native) -> mp3 (libmp3lame))\n",
      "Press [q] to stop, [?] for help\n",
      "\u001b[1;36m[libmp3lame @ 0x154f160] \u001b[0m\u001b[0;33mTrying to remove 576 samples, but the queue is empty\n",
      "\u001b[0msize=      29kB time=00:00:03.44 bitrate=  68.0kbits/s    \n",
      "video:0kB audio:28kB subtitle:0kB other streams:0kB global headers:0kB muxing overhead: 3.096302%\n",
      "ffmpeg version 2.8.15-0ubuntu0.16.04.1 Copyright (c) 2000-2018 the FFmpeg developers\n",
      "  built with gcc 5.4.0 (Ubuntu 5.4.0-6ubuntu1~16.04.10) 20160609\n",
      "  configuration: --prefix=/usr --extra-version=0ubuntu0.16.04.1 --build-suffix=-ffmpeg --toolchain=hardened --libdir=/usr/lib/x86_64-linux-gnu --incdir=/usr/include/x86_64-linux-gnu --cc=cc --cxx=g++ --enable-gpl --enable-shared --disable-stripping --disable-decoder=libopenjpeg --disable-decoder=libschroedinger --enable-avresample --enable-avisynth --enable-gnutls --enable-ladspa --enable-libass --enable-libbluray --enable-libbs2b --enable-libcaca --enable-libcdio --enable-libflite --enable-libfontconfig --enable-libfreetype --enable-libfribidi --enable-libgme --enable-libgsm --enable-libmodplug --enable-libmp3lame --enable-libopenjpeg --enable-libopus --enable-libpulse --enable-librtmp --enable-libschroedinger --enable-libshine --enable-libsnappy --enable-libsoxr --enable-libspeex --enable-libssh --enable-libtheora --enable-libtwolame --enable-libvorbis --enable-libvpx --enable-libwavpack --enable-libwebp --enable-libx265 --enable-libxvid --enable-libzvbi --enable-openal --enable-opengl --enable-x11grab --enable-libdc1394 --enable-libiec61883 --enable-libzmq --enable-frei0r --enable-libx264 --enable-libopencv\n",
      "  libavutil      54. 31.100 / 54. 31.100\n",
      "  libavcodec     56. 60.100 / 56. 60.100\n",
      "  libavformat    56. 40.101 / 56. 40.101\n",
      "  libavdevice    56.  4.100 / 56.  4.100\n",
      "  libavfilter     5. 40.101 /  5. 40.101\n",
      "  libavresample   2.  1.  0 /  2.  1.  0\n",
      "  libswscale      3.  1.101 /  3.  1.101\n",
      "  libswresample   1.  2.101 /  1.  2.101\n",
      "  libpostproc    53.  3.100 / 53.  3.100\n",
      "\u001b[0;33mGuessed Channel Layout for  Input Stream #0.0 : stereo\n",
      "\u001b[0mInput #0, wav, from './music/a2002011001-e02-16kHz.wav':\n",
      "  Duration: 00:00:54.31, bitrate: 512 kb/s\n",
      "    Stream #0:0: Audio: pcm_s16le ([1][0][0][0] / 0x0001), 16000 Hz, 2 channels, s16, 512 kb/s\n",
      "Output #0, mp3, to './music/a2002011001-e02-16kHz.mp3':\n",
      "  Metadata:\n",
      "    TSSE            : Lavf56.40.101\n",
      "    Stream #0:0: Audio: mp3 (libmp3lame), 16000 Hz, stereo, s16p, 128 kb/s\n",
      "    Metadata:\n",
      "      encoder         : Lavc56.60.100 libmp3lame\n",
      "Stream mapping:\n",
      "  Stream #0:0 -> #0:0 (pcm_s16le (native) -> mp3 (libmp3lame))\n",
      "Press [q] to stop, [?] for help\n",
      "size=     851kB time=00:00:54.32 bitrate= 128.3kbits/s    \n",
      "video:0kB audio:850kB subtitle:0kB other streams:0kB global headers:0kB muxing overhead: 0.071352%\n",
      "ffmpeg version 2.8.15-0ubuntu0.16.04.1 Copyright (c) 2000-2018 the FFmpeg developers\n",
      "  built with gcc 5.4.0 (Ubuntu 5.4.0-6ubuntu1~16.04.10) 20160609\n",
      "  configuration: --prefix=/usr --extra-version=0ubuntu0.16.04.1 --build-suffix=-ffmpeg --toolchain=hardened --libdir=/usr/lib/x86_64-linux-gnu --incdir=/usr/include/x86_64-linux-gnu --cc=cc --cxx=g++ --enable-gpl --enable-shared --disable-stripping --disable-decoder=libopenjpeg --disable-decoder=libschroedinger --enable-avresample --enable-avisynth --enable-gnutls --enable-ladspa --enable-libass --enable-libbluray --enable-libbs2b --enable-libcaca --enable-libcdio --enable-libflite --enable-libfontconfig --enable-libfreetype --enable-libfribidi --enable-libgme --enable-libgsm --enable-libmodplug --enable-libmp3lame --enable-libopenjpeg --enable-libopus --enable-libpulse --enable-librtmp --enable-libschroedinger --enable-libshine --enable-libsnappy --enable-libsoxr --enable-libspeex --enable-libssh --enable-libtheora --enable-libtwolame --enable-libvorbis --enable-libvpx --enable-libwavpack --enable-libwebp --enable-libx265 --enable-libxvid --enable-libzvbi --enable-openal --enable-opengl --enable-x11grab --enable-libdc1394 --enable-libiec61883 --enable-libzmq --enable-frei0r --enable-libx264 --enable-libopencv\n",
      "  libavutil      54. 31.100 / 54. 31.100\n",
      "  libavcodec     56. 60.100 / 56. 60.100\n",
      "  libavformat    56. 40.101 / 56. 40.101\n",
      "  libavdevice    56.  4.100 / 56.  4.100\n",
      "  libavfilter     5. 40.101 /  5. 40.101\n",
      "  libavresample   2.  1.  0 /  2.  1.  0\n",
      "  libswscale      3.  1.101 /  3.  1.101\n",
      "  libswresample   1.  2.101 /  1.  2.101\n",
      "  libpostproc    53.  3.100 / 53.  3.100\n",
      "\u001b[0;33mGuessed Channel Layout for  Input Stream #0.0 : stereo\n",
      "\u001b[0mInput #0, wav, from './music/a2002011001-e02.wav':\n",
      "  Duration: 00:00:54.31, bitrate: 1411 kb/s\n",
      "    Stream #0:0: Audio: pcm_s16le ([1][0][0][0] / 0x0001), 44100 Hz, 2 channels, s16, 1411 kb/s\n",
      "Output #0, mp3, to './music/a2002011001-e02.mp3':\n",
      "  Metadata:\n",
      "    TSSE            : Lavf56.40.101\n",
      "    Stream #0:0: Audio: mp3 (libmp3lame), 44100 Hz, stereo, s16p, 128 kb/s\n",
      "    Metadata:\n",
      "      encoder         : Lavc56.60.100 libmp3lame\n",
      "Stream mapping:\n",
      "  Stream #0:0 -> #0:0 (pcm_s16le (native) -> mp3 (libmp3lame))\n",
      "Press [q] to stop, [?] for help\n",
      "size=     850kB time=00:00:54.33 bitrate= 128.1kbits/s    \n",
      "video:0kB audio:849kB subtitle:0kB other streams:0kB global headers:0kB muxing overhead: 0.053117%\n"
     ]
    }
   ],
   "source": [
    "#Works but not correct in CPM\n",
    "find . -type f -name '*.wav' -print0 | while read -d '' -r file; do \n",
    "    ffmpeg -i \"$file\" -n -acodec libmp3lame -ab 128k \"${file%.wav}.mp3\" < /dev/null\n",
    "done"
   ]
  },
  {
   "cell_type": "markdown",
   "metadata": {},
   "source": [
    "**Q2 (10 points)** Write a program that given a directory structure of text files, it\n",
    "prints the 10 most common words in those files (across all files).\n",
    "\n",
    "The output should look like this:\n",
    "\n",
    "``\n",
    "5 most_common_word\n",
    "2 less_common_word\n",
    "1 least_common_word\n",
    "``"
   ]
  },
  {
   "cell_type": "code",
   "execution_count": 26,
   "metadata": {
    "cell_id": "q2"
   },
   "outputs": [
    {
     "name": "stdout",
     "output_type": "stream",
     "text": [
      "      5 ik\n",
      "      4 hallo\n",
      "      2 I\n",
      "      2 henk\n",
      "      2 ben\n",
      "      1 yo\n",
      "      1 west\n",
      "      1 want\n",
      "      1 van\n",
      "      1 toch\n"
     ]
    }
   ],
   "source": [
    "#Works but not correct in CPM\n",
    "cd /home/bigdata/Downloads/assignment_1/text_files/\n",
    "awk 1 *.txt > all_text\n",
    "grep -oE '[[:alpha:]]+' all_text | sort | uniq -c | sort -nr | head -10"
   ]
  },
  {
   "cell_type": "markdown",
   "metadata": {},
   "source": [
    "**Q3 (10 points)** Given this\n",
    "[dataset](https://drive.google.com/file/d/1HYkiUFb_NKw4BWXSOvjgtw0jnjF4eA2s/view?usp=sharing)\n",
    "(which you will also be using later on), write a program that obtains the star\n",
    "count, watcher count and number of forks for first 10 repositories from the GitHub API.\n",
    "The output must look like the following:\n",
    "\n",
    "```\n",
    "url,stars,watchers,forks\n",
    "https://api.github.com/repos/8d8d/Think.Admin,0,0,0\n",
    "https://api.github.com/repos/971638267/RetrofitAndRxjavaforRecyclerview,12,12,3\n",
    "https://api.github.com/repos/9alsacelost/greenDAO,0,0,0\n",
    "https://api.github.com/repos/a1265137718/ZoomHeader,0,0,0\n",
    "```\n",
    "\n",
    "**Note** Make sure you use this path for the csv file: `datasets/repositories_grading.csv` otherwise auto-grading will fail.\n",
    "\n",
    "**Warning** The GitHub API requires authentication, otherwise it is limited to 60 requests per hour. Make sure you setup [an OAuth key](https://developer.github.com/v3/#oauth2-token-sent-in-a-header) and use this key for doing the requests. After the assignment deadline, you can remove it. _If you fail to submit a solution including a key, the grading will fail_"
   ]
  },
  {
   "cell_type": "code",
   "execution_count": 182,
   "metadata": {
    "cell_id": "q3"
   },
   "outputs": [
    {
     "name": "stdout",
     "output_type": "stream",
     "text": [
      "/home/bigdata/datasets\n"
     ]
    }
   ],
   "source": []
  },
  {
   "cell_type": "markdown",
   "metadata": {},
   "source": [
    "**Q4 (10 points)** Write a program that downloads all JPEG pictures in a web\n",
    "page. JPEG pictures are identified by the extensions `*.jpg` and `*.jpeg`.\n",
    "Your program must accept the URL to process as an argument. For example:\n",
    "\n",
    "```bash\n",
    "$ jpegdl https://www.nu.nl\n",
    "[...]\n",
    "$ ls\n",
    "zi7xo0pa6h6x_std320.jpg\n",
    "hsnxkcyat176_std320.jpg\n",
    "[...]\n",
    "```"
   ]
  },
  {
   "cell_type": "code",
   "execution_count": 72,
   "metadata": {
    "cell_id": "q4"
   },
   "outputs": [
    {
     "name": "stdout",
     "output_type": "stream",
     "text": [
      "--2018-11-20 18:17:40--  https://www.nu.nl/\n",
      "Resolving www.nu.nl (www.nu.nl)... 143.204.192.114, 143.204.192.67, 143.204.192.70, ...\n",
      "Connecting to www.nu.nl (www.nu.nl)|143.204.192.114|:443... connected.\n",
      "HTTP request sent, awaiting response... 200 OK\n",
      "Length: 310981 (304K) [text/html]\n",
      "Saving to: ‘index.html.tmp’\n",
      "\n",
      "index.html.tmp      100%[===================>] 303,69K   177KB/s    in 1,7s    \n",
      "\n",
      "2018-11-20 18:17:42 (177 KB/s) - ‘index.html.tmp’ saved [310981/310981]\n",
      "\n",
      "Loading robots.txt; please ignore errors.\n",
      "--2018-11-20 18:17:42--  https://www.nu.nl/robots.txt\n",
      "Reusing existing connection to www.nu.nl:443.\n",
      "HTTP request sent, awaiting response... 200 OK\n",
      "Length: 278 [text/plain]\n",
      "Saving to: ‘robots.txt.tmp’\n",
      "\n",
      "robots.txt.tmp      100%[===================>]     278  --.-KB/s    in 0s      \n",
      "\n",
      "2018-11-20 18:17:42 (65,8 MB/s) - ‘robots.txt.tmp’ saved [278/278]\n",
      "\n",
      "Removing index.html.tmp since it should be rejected.\n",
      "\n",
      "--2018-11-20 18:17:42--  https://www.nu.nl/advertorials/\n",
      "Reusing existing connection to www.nu.nl:443.\n",
      "HTTP request sent, awaiting response... 301 Moved Permanently\n",
      "Location: https://www.nu.nl/advertorials [following]\n",
      "--2018-11-20 18:17:42--  https://www.nu.nl/advertorials\n",
      "Reusing existing connection to www.nu.nl:443.\n",
      "HTTP request sent, awaiting response... 200 OK\n",
      "Length: 74762 (73K) [text/html]\n",
      "Saving to: ‘index.html.tmp’\n",
      "\n",
      "index.html.tmp      100%[===================>]  73,01K  --.-KB/s    in 0,05s   \n",
      "\n",
      "2018-11-20 18:17:42 (1,51 MB/s) - ‘index.html.tmp’ saved [74762/74762]\n",
      "\n",
      "Removing index.html.tmp since it should be rejected.\n",
      "\n",
      "FINISHED --2018-11-20 18:17:42--\n",
      "Total wall clock time: 2,3s\n",
      "Downloaded: 3 files, 377K in 1,8s (214 KB/s)\n"
     ]
    }
   ],
   "source": [
    "#Works but not correct in CPM\n",
    "#cd /home/bigdata/Downloads/assignment_1/pictures_from_websites/\n",
    "function jpegdl() {\n",
    "    wget -nd -r --level=1 -A .jpg,.jpeg $1\n",
    "}\n",
    "\n",
    "jpegdl https://www.nu.nl"
   ]
  },
  {
   "cell_type": "markdown",
   "metadata": {},
   "source": [
    "**Q5 (10 points)** All Unix systems have a\n",
    "[dictionary file](https://en.wikipedia.org/wiki/Words_(Unix)) residing under\n",
    "`/usr/share/dict/words` or `/usr/dict/words`. Use it to implement a (rudimentary)\n",
    "spellchecker. Your spellchecker should read a file named `foo.txt` and print\n",
    "a list all the words in the document to be checked that are not in the dictionary.\n",
    "An example usage session can be seen below.\n",
    "\n",
    "```bash\n",
    "$ cat foo.txt\n",
    "I am a nicelly formatted sentence,\n",
    "but I contain errors.\n",
    "\n",
    "$ cat foo.txt | spellchecker\n",
    "nicelly\n",
    "formatted\n",
    "```"
   ]
  },
  {
   "cell_type": "code",
   "execution_count": 252,
   "metadata": {
    "cell_id": "q5"
   },
   "outputs": [
    {
     "name": "stdout",
     "output_type": "stream",
     "text": [
      "nicelly\n",
      "hav\n",
      "eror\n",
      "mongoel\n"
     ]
    }
   ],
   "source": [
    "#Works but not correct in CPM\n",
    "cd /home/bigdata/Downloads/assignment_1/text_files/\n",
    "function spellchecker() {\n",
    "     tr -d ',' | tr -d '.' | grep -o \"\\S*\" | grep -xvFf /usr/share/dict/words\n",
    "}\n",
    "\n",
    "cat foo.txt | spellchecker"
   ]
  },
  {
   "cell_type": "markdown",
   "metadata": {},
   "source": [
    "**Q6 (10 points)** Given [this repository](https://github.com/SERG-Delft/jpacman-framework)\n",
    "at commit [05681455d905586f940e0e00e](https://github.com/SERG-Delft/jpacman-framework/commit/05681455d905586f940e0e00ed05f34266332ae9), find the sizes for all versions of all test files (assume that all test files are under `src/test/java`). The output must look like the following:\n",
    "\n",
    "```\n",
    "blob_id blob_path size_in_bytes\n",
    "```\n",
    "\n",
    "for example:\n",
    "\n",
    "```\n",
    "da14c3975e src/test/java/nl/tudelft/jpacman/npc/ghost/NavigationTest.java 165\n",
    "1fbe0d836d src/test/java/nl/tudelft/jpacman/sprite/SpriteTest.java 108\n",
    "3bde982975 src/test/java/nl/tudelft/jpacman/sprite/SpriteTest.java 108\n",
    "6286792e43 src/test/java/nl/tudelft/jpacman/sprite/SpriteTest.java 110\n",
    "```\n",
    "\n",
    "A blob in Git represents a file version."
   ]
  },
  {
   "cell_type": "code",
   "execution_count": 166,
   "metadata": {
    "cell_id": "q6"
   },
   "outputs": [
    {
     "name": "stdout",
     "output_type": "stream",
     "text": [
      "/home/bigdata/Downloads/assignment_1/text_files\n"
     ]
    }
   ],
   "source": []
  },
  {
   "cell_type": "markdown",
   "metadata": {},
   "source": [
    "## Data processing"
   ]
  },
  {
   "cell_type": "markdown",
   "metadata": {},
   "source": [
    "For the assignments in this section, we use the following [dataset](https://drive.google.com/file/d/1HYkiUFb_NKw4BWXSOvjgtw0jnjF4eA2s/view?usp=sharing) containing repositories.\n",
    "\n",
    "Write pipelines to calculate answers to the following questions:\n",
    "\n",
    "_Note:_ Use `\"repositories.csv\"` as filename, otherwise automatic grading will fail."
   ]
  },
  {
   "cell_type": "markdown",
   "metadata": {},
   "source": [
    "**Q7 (10 points)** Count the number of repositories written in `Java`."
   ]
  },
  {
   "cell_type": "code",
   "execution_count": 1,
   "metadata": {
    "cell_id": "q7"
   },
   "outputs": [
    {
     "name": "stdout",
     "output_type": "stream",
     "text": [
      "159"
     ]
    }
   ],
   "source": [
    "#-----CORRECT-----\n",
    "cd /home/bigdata/datasets/\n",
    "awk -F ',' '{print$5}' repositories.csv | sort | uniq -c | grep -w Java | tr -dc '0-9'"
   ]
  },
  {
   "cell_type": "markdown",
   "metadata": {},
   "source": [
    "**Q8 (10 points)** How many repositories were forked _and_ written in PHP?"
   ]
  },
  {
   "cell_type": "code",
   "execution_count": 2,
   "metadata": {
    "cell_id": "q8"
   },
   "outputs": [
    {
     "name": "stdout",
     "output_type": "stream",
     "text": [
      "27\n"
     ]
    }
   ],
   "source": [
    "#-----CORRECT-----\n",
    "cd /home/bigdata/datasets/\n",
    "\n",
    "awk -F \"\\\"*,\\\"*\" '{print $5\",\"$7}' repositories.csv | grep -w PHP | grep -v NULL | wc -l"
   ]
  },
  {
   "cell_type": "markdown",
   "metadata": {},
   "source": [
    "**Q9 (10 points)** Which `owner_id` owns most repositories?"
   ]
  },
  {
   "cell_type": "code",
   "execution_count": 250,
   "metadata": {
    "cell_id": "q9"
   },
   "outputs": [
    {
     "name": "stdout",
     "output_type": "stream",
     "text": [
      "8526075\n",
      "sort: write failed: 'standard output': Broken pipe\n",
      "sort: write error\n"
     ]
    }
   ],
   "source": [
    "#-----CORRECT-----\n",
    "#Gives broken pipe error but works.\n",
    "cd /home/bigdata/datasets/\n",
    "\n",
    "awk -F ',' '{print$3}' repositories.csv | sort | uniq -c | sort -nr | head -1 | cut -d ' ' -f 8"
   ]
  },
  {
   "cell_type": "markdown",
   "metadata": {},
   "source": [
    "**Q10 (10 points)**  Which repositories are created between `01-01-2017` and `24-03-2017` (print the names)."
   ]
  },
  {
   "cell_type": "code",
   "execution_count": null,
   "metadata": {
    "cell_id": "q10",
    "collapsed": true
   },
   "outputs": [],
   "source": [
    "#cd /home/bigdata/datasets/"
   ]
  },
  {
   "cell_type": "markdown",
   "metadata": {},
   "source": [
    "**Q11 (10 points)**: Print the `10` most used programming languages sorted on popularity."
   ]
  },
  {
   "cell_type": "code",
   "execution_count": 29,
   "metadata": {
    "cell_id": "q11"
   },
   "outputs": [
    {
     "name": "stdout",
     "output_type": "stream",
     "text": [
      "JavaScript\n",
      "Java\n",
      "Python\n",
      "PHP\n",
      "HTML\n",
      "C++\n",
      "C#\n",
      "C\n",
      "Ruby\n",
      "CSS\n"
     ]
    }
   ],
   "source": [
    "cd /home/bigdata/datasets/\n",
    "#Works but I think we need to show only the languages without the numbers.\n",
    "awk -F ',' '{print$5}' repositories.csv | sort | uniq -c | sort -nr | grep -v NULL | head -10 | tr -d '0-9' | tr -d ' '"
   ]
  },
  {
   "cell_type": "markdown",
   "metadata": {},
   "source": [
    "**Q12 (10 points)**: Print the `username` of the owners whose repositories are deleted.\n",
    "\n",
    "_Hint_: Use the url field."
   ]
  },
  {
   "cell_type": "code",
   "execution_count": null,
   "metadata": {
    "cell_id": "q12",
    "collapsed": true
   },
   "outputs": [],
   "source": [
    "#cd /home/bigdata/datasets/"
   ]
  }
 ],
 "metadata": {
  "kernelspec": {
   "display_name": "Bash",
   "language": "bash",
   "name": "bash"
  },
  "language_info": {
   "codemirror_mode": "shell",
   "file_extension": ".sh",
   "mimetype": "text/x-sh",
   "name": "bash"
  }
 },
 "nbformat": 4,
 "nbformat_minor": 2
}
