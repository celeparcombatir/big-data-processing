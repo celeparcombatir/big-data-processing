{
 "cells": [
  {
   "cell_type": "markdown",
   "metadata": {},
   "source": [
    "# Assignment on Programming Techniques for Big Data\n",
    "\n",
    "## Yoshi van den Akker and Georgios Gousios\n",
    "\n",
    "Functional programming is the basis of most modern Big Data processing systems.\n",
    "Before going forward to the course, it is important to master data processing\n",
    "techniques using a functional programming style. In this assignment, your task \n",
    "is to train yourselves in thinking in a functional way when processing data. \n",
    "\n",
    "Many of the the tasks below are easy, but some are not and require many\n",
    "iterations (and extensive testing!) to get right. For some of them, you\n",
    "can find ready-made solutions on the internet. Even though it may be tempting,\n",
    "we advise you against copying and pasting them here, as you will regret it\n",
    "later on in the course.\n",
    "[Wax on, wax off!](https://www.youtube.com/watch?v=fULNUr0rvEc)\n",
    "\n",
    "\n",
    "This assignment has a total of *115* points. Your grade is calculated with `min(points/11, 10)`, i.e. you need 110 points for a 10.\n",
    "\n",
    "A few notes:\n",
    "* For each function you define, you also need to define at least one working example.\n",
    "* Do not change the given function signatures, otherwise automated tests will fail.\n",
    "* The tests will run every cell. Make sure no errors occur by testing this via Cell -> Run All.\n",
    "* Use functional programming for every question (besides the first section).\n",
    "* This assignment requires you to use Python 3."
   ]
  },
  {
   "cell_type": "markdown",
   "metadata": {},
   "source": [
    "## Foundations of functional programming\n",
    "\n",
    "In this part you will implement core functions that are vital to functional programming."
   ]
  },
  {
   "cell_type": "markdown",
   "metadata": {},
   "source": [
    "**T** (5pts): Implement `map` using iteration for lists/arrays"
   ]
  },
  {
   "cell_type": "code",
   "execution_count": 57,
   "metadata": {},
   "outputs": [
    {
     "data": {
      "text/plain": [
       "[0, 2, 4, 6, 8, 10, 12]"
      ]
     },
     "execution_count": 57,
     "metadata": {},
     "output_type": "execute_result"
    }
   ],
   "source": [
    "#---CORRECT-------------------------\n",
    "def map(func, xs):\n",
    "    xss = list(range(len(xs)))\n",
    "    for i in xs:\n",
    "        xss[xs.index(i)] = func(i)\n",
    "    xs = xss\n",
    "    return xs\n",
    "    pass\n",
    "\n",
    "map(lambda x: x*2, range(7))\n"
   ]
  },
  {
   "cell_type": "markdown",
   "metadata": {},
   "source": [
    "**T** (5pts): Implement `filter` using iteration for lists/arrays"
   ]
  },
  {
   "cell_type": "code",
   "execution_count": 58,
   "metadata": {},
   "outputs": [
    {
     "data": {
      "text/plain": [
       "[0, 2, 4, 6]"
      ]
     },
     "execution_count": 58,
     "metadata": {},
     "output_type": "execute_result"
    }
   ],
   "source": [
    "#---CORRECT-------------------------\n",
    "def filter(func, xs):\n",
    "    result = []\n",
    "    for i in xs:\n",
    "        if func(i):\n",
    "            result.append(i)\n",
    "    return result\n",
    "    pass\n",
    "\n",
    "filter(lambda x: x % 2 == 0, range(7))\n"
   ]
  },
  {
   "cell_type": "markdown",
   "metadata": {},
   "source": [
    "**T** (5pts): Implement `reduceR` using iteration for lists/arrays"
   ]
  },
  {
   "cell_type": "code",
   "execution_count": 90,
   "metadata": {},
   "outputs": [
    {
     "data": {
      "text/plain": [
       "3"
      ]
     },
     "execution_count": 90,
     "metadata": {},
     "output_type": "execute_result"
    }
   ],
   "source": [
    "#---CORRECT-------------------------\n",
    "def reduceR(func, xs, init):\n",
    "    length_list = len(xs)\n",
    "    for i in range(1, length_list + 1):\n",
    "        init = func(xs[length_list - i], init)\n",
    "    return init\n",
    "    pass\n",
    "\n",
    "reduceR(lambda x, y: x-y, range(7), 0)\n"
   ]
  },
  {
   "cell_type": "markdown",
   "metadata": {},
   "source": [
    "**T** (5pts): Implement a function `flatten(xs: [[A]]): [A]` that converts a list of \n",
    "lists into a list formed by the elements of these lists. For example:\n",
    "\n",
    "```python\n",
    ">>> a = [[1,2],[2,3],[3,[4]]]\n",
    ">>> flatten(a)\n",
    "[1,2,2,3,3,[4]]\n",
    "```"
   ]
  },
  {
   "cell_type": "code",
   "execution_count": 60,
   "metadata": {},
   "outputs": [
    {
     "data": {
      "text/plain": [
       "[1, 2, 3, 4, 5, 7, [8, 9]]"
      ]
     },
     "execution_count": 60,
     "metadata": {},
     "output_type": "execute_result"
    }
   ],
   "source": [
    "#---CORRECT-------------------------\n",
    "def flatten(xss):\n",
    "    result = []\n",
    "    for i in xss:\n",
    "        for n in i:\n",
    "            result.append(n)\n",
    "    return result\n",
    "\n",
    "\n",
    "flatten([[1,2,3],[4,5], [7,[8,9]]])\n"
   ]
  },
  {
   "cell_type": "markdown",
   "metadata": {},
   "source": [
    "## More basic functions\n",
    "\n",
    "In every implementation from now (also in next steps)on you should reuse at least one of your answers to an earlier question."
   ]
  },
  {
   "cell_type": "markdown",
   "metadata": {},
   "source": [
    "**T** (5pts): Implement `reduceL` by reusing `reduceR`"
   ]
  },
  {
   "cell_type": "code",
   "execution_count": 61,
   "metadata": {},
   "outputs": [
    {
     "data": {
      "text/plain": [
       "-21"
      ]
     },
     "execution_count": 61,
     "metadata": {},
     "output_type": "execute_result"
    }
   ],
   "source": [
    "#---CORRECT-------------------------\n",
    "def reduceL(func, xs, init):\n",
    "    return reduceR(lambda x, y: func(y, x), list(reversed(xs)), init)\n",
    "\n",
    "reduceL(lambda x, y: x-y, range(7), 0)\n"
   ]
  },
  {
   "cell_type": "markdown",
   "metadata": {},
   "source": [
    "**T** (10pts): Implement `group_by` by reusing `reduceL`."
   ]
  },
  {
   "cell_type": "code",
   "execution_count": 62,
   "metadata": {},
   "outputs": [
    {
     "data": {
      "text/plain": [
       "{'even': [0, 2, 4, 6, 8], 'odd': [1, 3, 5, 7, 9]}"
      ]
     },
     "execution_count": 62,
     "metadata": {},
     "output_type": "execute_result"
    }
   ],
   "source": [
    "#---CORRECT-------------------------\n",
    "def group_by(classifier, xs):\n",
    "    def grouper(dicton, item):\n",
    "        key = classifier(item)\n",
    "        if key in dicton.keys():\n",
    "            dicton[key].append(item)\n",
    "        else:\n",
    "            dicton[key] = [item]\n",
    "        return dicton\n",
    "    return reduceL(grouper, xs, dict())\n",
    "        \n",
    "group_by(lambda x: \"even\" if x % 2 == 0 else \"odd\", range(10))\n"
   ]
  },
  {
   "cell_type": "markdown",
   "metadata": {},
   "source": [
    "## Simple data processing\n",
    "\n"
   ]
  },
  {
   "cell_type": "markdown",
   "metadata": {},
   "source": [
    "**T** (5pts): Implement `distinct` using `reduceL`."
   ]
  },
  {
   "cell_type": "code",
   "execution_count": 63,
   "metadata": {},
   "outputs": [
    {
     "data": {
      "text/plain": [
       "[1, 2, 3, 4, 5, 6]"
      ]
     },
     "execution_count": 63,
     "metadata": {},
     "output_type": "execute_result"
    }
   ],
   "source": [
    "#---CORRECT-------------------------\n",
    "def distinct(listy):\n",
    "    def disty(listy, item):\n",
    "        if item not in listy:\n",
    "            listy.append(item)\n",
    "        return listy\n",
    "    return reduceL(disty, listy, [])\n",
    "\n",
    "\n",
    "a = [1,2,3,1,2,3,4,5,6,5,4,3,2,1]\n",
    "distinct(a)\n"
   ]
  },
  {
   "cell_type": "markdown",
   "metadata": {},
   "source": [
    "**T** (5pts): Implement `flatmap`."
   ]
  },
  {
   "cell_type": "code",
   "execution_count": 64,
   "metadata": {
    "scrolled": true
   },
   "outputs": [
    {
     "data": {
      "text/plain": [
       "[0, 0, 1, 0, 1, 2, 0, 1, 2, 3]"
      ]
     },
     "execution_count": 64,
     "metadata": {},
     "output_type": "execute_result"
    }
   ],
   "source": [
    "#---CORRECT-------------------------\n",
    "def flatmap(func, xs):\n",
    "    xss = list(range(len(xs)))\n",
    "    for i in xs:\n",
    "        xss[xs.index(i)] = func(i)\n",
    "    xs = xss\n",
    "    result = []\n",
    "    for i in xs:\n",
    "        for n in i:\n",
    "            result.append(n)\n",
    "    return result\n",
    "\n",
    "flatmap(lambda x: list(range(x)), range(5))\n"
   ]
  },
  {
   "cell_type": "markdown",
   "metadata": {},
   "source": [
    "**T** (5pts): Implement `max(xs: [Integer]): Integer` that finds the largest value in `xs`. You can assume the list is non-empty."
   ]
  },
  {
   "cell_type": "code",
   "execution_count": 65,
   "metadata": {},
   "outputs": [
    {
     "data": {
      "text/plain": [
       "59"
      ]
     },
     "execution_count": 65,
     "metadata": {},
     "output_type": "execute_result"
    }
   ],
   "source": [
    "#---CORRECT-------------------------\n",
    "def max(xs):\n",
    "    largest = xs[0]\n",
    "    for x in xs:\n",
    "        if x > largest:\n",
    "            largest = x\n",
    "    return largest\n",
    "\n",
    "max([1,59,42,27,38])\n"
   ]
  },
  {
   "cell_type": "markdown",
   "metadata": {},
   "source": [
    "## Higher-order functions\n",
    "\n",
    "\n",
    "**T** (10pts): Implement a function called `drop_while(f: A -> Boolean, xs: [A]) : [A]` \n",
    "that drops the longest prefix of elements from `xs` that satisfy `f`.\n",
    "\n",
    "```python\n",
    ">>> a = [1,2,3,4,3,2,1]\n",
    ">>> dropWhile(lambda x: x <= 3, a)\n",
    "[4,3,2,1]\n",
    "```"
   ]
  },
  {
   "cell_type": "code",
   "execution_count": 1,
   "metadata": {},
   "outputs": [
    {
     "data": {
      "text/plain": [
       "[5, 3, 1, 4, 1, 5, 6]"
      ]
     },
     "execution_count": 1,
     "metadata": {},
     "output_type": "execute_result"
    }
   ],
   "source": [
    "#---CORRECT-------------------------\n",
    "def drop_while(func, xs):\n",
    "    for i in range(len(xs)):\n",
    "        if not func(xs[i]):\n",
    "            return xs[i:]\n",
    "            \n",
    "\n",
    "drop_while(lambda x: x <= 3, [1,2,1,3,5,3,1,4,1,5,6])\n"
   ]
  },
  {
   "cell_type": "markdown",
   "metadata": {},
   "source": [
    "**T** (10pts): Implement a function `zip(xs: [A], ys: [B]): List[(A,B)]` that returns a list formed from this list and another list by combining the corresponding elements in pairs. If one of the two lists is longer \n",
    "than the other, its remaining elements are ignored. \n",
    "\n",
    "```python\n",
    ">>> a = [1,2,3,4]\n",
    ">>> b = [a,b,c,d,e]\n",
    ">>> zip(a,b)\n",
    "[(1, 'a'), (2, 'b'), (3, 'c'), (4,'d')]\n",
    "```"
   ]
  },
  {
   "cell_type": "code",
   "execution_count": 83,
   "metadata": {
    "scrolled": true
   },
   "outputs": [
    {
     "data": {
      "text/plain": [
       "[(2, 'a'), (3, 'b'), (4, 'c')]"
      ]
     },
     "execution_count": 83,
     "metadata": {},
     "output_type": "execute_result"
    }
   ],
   "source": [
    "#---CORRECT-------------------------\n",
    "def zip(xs, ys):\n",
    "    result = []\n",
    "    for i in range(min(len(xs), len(ys))):\n",
    "        result.append((xs[i], ys[i]))                       \n",
    "    return result\n",
    "    \n",
    "a = [2,3,4]\n",
    "b = ['a','b','c','d']\n",
    "zip(a,b)\n"
   ]
  },
  {
   "cell_type": "markdown",
   "metadata": {},
   "source": [
    "**T** (10pts): Implement a function \n",
    "`scanL(f: (acc: B, x: A) -> B, xs: [A], init: B) -> [B]`\n",
    "that works like `reduceL` but instead of producing one final result, it also\n",
    "returns all the intermediate results.\n",
    "\n",
    "```python\n",
    ">>> a = [2,3,4]\n",
    ">>> scanL(a, 0, lambda x, y: x + y)\n",
    "[0, 2, 5, 9]\n",
    "```"
   ]
  },
  {
   "cell_type": "code",
   "execution_count": 14,
   "metadata": {},
   "outputs": [
    {
     "data": {
      "text/plain": [
       "[0, 2, 5, 9]"
      ]
     },
     "execution_count": 14,
     "metadata": {},
     "output_type": "execute_result"
    }
   ],
   "source": [
    "#---CORRECT-------------------------\n",
    "def scanL(func, xs, init):\n",
    "    result = []\n",
    "    result.append(init)\n",
    "    for i in range(len(xs)):\n",
    "        init = func(init, xs[i])\n",
    "        result.append(init)\n",
    "    return result\n",
    "\n",
    "\n",
    "scanL(lambda x, y: x + y, [2,3,4], 0)\n"
   ]
  },
  {
   "cell_type": "markdown",
   "metadata": {},
   "source": [
    "## Real life application\n",
    "\n",
    "In the following questions you will solve realistic problems with the techniques you learned in this assignment. You will be working with data of San Francisco Library patrons. You can find the data file [here](https://drive.google.com/open?id=1sYTB_gR4Ig0Aww9QBN9wRdaLWVdBVD62). Below you can find what each field means.\n",
    "\n",
    "* Id: Id of patron\n",
    "* Patron Type Definition: Description of patron (adult, teen, child, senior, etc.).\n",
    "* Total Checkouts: Total number of items the patron has checked out from the library since the record was created.\n",
    "* Total Renewals: Total number of times the patron has renewed checked-out items.\n",
    "* Age Range: Age ranges: 0 to 9 years, 10 to 19 years, 20 to 24 years, 25 to 34 years, 35 to 44 years, 45 to 54 years, 55 to 59 years, 60 to 64 years 65 to 74 years, 75 years and over. Some blank.\n",
    "* Home Library Definition: Description of the branch library where the patron was originally registered.\n",
    "* Circulation Active Month: Month the patron last checked out library materials, or last logged into the library’s subscription databases from a computer outside the library.\n",
    "* Circulation Active Year: Year the patron last checked out library materials, or last logged into the library’s subscription databases from a computer outside the library.\n",
    "* Notice Preference Definition: Description of the patron’s preferred method of receiving library notices.\n",
    "* Provided Email Address: Indicates whether the patron provided an email address.\n",
    "* Year Patron Registered: Year patron registered with library system. No dates prior to 2003 due to system migration.\n",
    "* Outside of County: If a patron's home address is not in San Francisco, then flagged as true, otherwise false.\n",
    "* Supervisor District: Based on patron address: San Francisco Supervisor District. Note: This is an automated field, please note that if \"Outside of County\" is true, then there will be no supervisor district. Also, if the input address was not well-formed, the supervisor district will be blank.\n",
    "\n",
    "Solve the following questions using functions you implemented earlier. The code for reading the file is already given. Hint: for testing purposes it could be beneficial to only use a small part of the dataset."
   ]
  },
  {
   "cell_type": "code",
   "execution_count": 74,
   "metadata": {},
   "outputs": [],
   "source": [
    "# This snippet imports the csv file to a list of dicts\n",
    "\n",
    "import csv\n",
    "file = 'library.csv' # Change this filepath to the location of your file if necessary\n",
    "patrons = []\n",
    "try: \n",
    "    with open(file) as fh:\n",
    "        rd = csv.DictReader(fh, delimiter=',') \n",
    "        for row in rd:\n",
    "            patrons.append(row)\n",
    "except FileNotFoundError as e:\n",
    "    print(e)\n"
   ]
  },
  {
   "cell_type": "markdown",
   "metadata": {},
   "source": [
    "**T** (10pts) Some patrons have indicated that they want to receive notices via email, but have not provided their email address. Implement a function that outputs a list of the IDs of these patrons."
   ]
  },
  {
   "cell_type": "code",
   "execution_count": 75,
   "metadata": {},
   "outputs": [
    {
     "data": {
      "text/plain": [
       "['012436',\n",
       " '025783',\n",
       " '028353',\n",
       " '037191',\n",
       " '041626',\n",
       " '045190',\n",
       " '048112',\n",
       " '065243',\n",
       " '069992',\n",
       " '070334',\n",
       " '081015',\n",
       " '083411',\n",
       " '099259',\n",
       " '100350',\n",
       " '108613',\n",
       " '109215',\n",
       " '115284',\n",
       " '115792',\n",
       " '126721',\n",
       " '130065',\n",
       " '135780',\n",
       " '160880',\n",
       " '161853',\n",
       " '172504',\n",
       " '174178',\n",
       " '180687',\n",
       " '194004',\n",
       " '195045',\n",
       " '203753',\n",
       " '205291',\n",
       " '209602',\n",
       " '217394',\n",
       " '219521',\n",
       " '225436',\n",
       " '228959',\n",
       " '233443',\n",
       " '235606',\n",
       " '242964',\n",
       " '243226',\n",
       " '244646',\n",
       " '245381',\n",
       " '246378',\n",
       " '249039',\n",
       " '255607',\n",
       " '263951',\n",
       " '265279',\n",
       " '266435',\n",
       " '274968',\n",
       " '283642',\n",
       " '291312',\n",
       " '294856',\n",
       " '299192',\n",
       " '301684',\n",
       " '308357',\n",
       " '308802',\n",
       " '309193',\n",
       " '317084',\n",
       " '317501',\n",
       " '318153',\n",
       " '321574',\n",
       " '322743',\n",
       " '322744',\n",
       " '327548',\n",
       " '327549',\n",
       " '341324',\n",
       " '341344',\n",
       " '347405',\n",
       " '361683',\n",
       " '365374',\n",
       " '366678',\n",
       " '366711',\n",
       " '366712',\n",
       " '369990',\n",
       " '373827',\n",
       " '374676',\n",
       " '375678',\n",
       " '375918',\n",
       " '375956',\n",
       " '378696',\n",
       " '380338',\n",
       " '381247',\n",
       " '381686',\n",
       " '387904',\n",
       " '388537',\n",
       " '390931',\n",
       " '395246',\n",
       " '397555',\n",
       " '398386',\n",
       " '400561',\n",
       " '403577',\n",
       " '404627',\n",
       " '410817',\n",
       " '417722',\n",
       " '420563',\n",
       " '421802']"
      ]
     },
     "execution_count": 75,
     "metadata": {},
     "output_type": "execute_result"
    }
   ],
   "source": [
    "#---CORRECT-------------------------\n",
    "def missing_email(xs):\n",
    "    result = []\n",
    "    for x in xs:\n",
    "        if x['Notice Preference Definition'] == 'email' and x['Provided Email Address'] == 'false':\n",
    "            result.append(x['Id'])\n",
    "    return result\n",
    "\n",
    "missing_email(patrons)\n"
   ]
  },
  {
   "cell_type": "markdown",
   "metadata": {},
   "source": [
    "**T** (10pts) Implement a function that outputs the total amount of checkouts from members originally registered at a given location.\n",
    "\n",
    "```python\n",
    ">>> checkouts(patrons, \"Noe Valley/Sally Brunn\")\n",
    "1355624\n",
    "```"
   ]
  },
  {
   "cell_type": "code",
   "execution_count": 76,
   "metadata": {},
   "outputs": [
    {
     "data": {
      "text/plain": [
       "3280190"
      ]
     },
     "execution_count": 76,
     "metadata": {},
     "output_type": "execute_result"
    }
   ],
   "source": [
    "#---CORRECT-------------------------\n",
    "def checkouts(xs, location):\n",
    "    result = 0\n",
    "    for x in xs:\n",
    "        if x['Home Library Definition'] == location:\n",
    "            result += int(x['Total Checkouts'])\n",
    "    return result\n",
    "\n",
    "checkouts(patrons, \"Mission\")\n"
   ]
  },
  {
   "cell_type": "markdown",
   "metadata": {},
   "source": [
    "**T** (15pts) Implement a function that lists the number of renewals per location in a tuple. Example output for part of the dataset:\n",
    "\n",
    "```python\n",
    ">>> number_renewals(patrons)\n",
    "\n",
    "[('Presidio', 431988),\n",
    " ('Mission', 1218976)]\n",
    "```"
   ]
  },
  {
   "cell_type": "code",
   "execution_count": 87,
   "metadata": {},
   "outputs": [
    {
     "data": {
      "text/plain": [
       "[('Main Library', 5174831),\n",
       " ('Mission Bay', 435878),\n",
       " ('Potrero', 342783),\n",
       " ('Sunset', 1448792),\n",
       " ('Merced', 904760),\n",
       " ('Noe Valley/Sally Brunn', 553023),\n",
       " ('Excelsior', 838127),\n",
       " ('Chinatown', 1515050),\n",
       " ('Richmond', 1795785),\n",
       " ('North Beach', 491147),\n",
       " ('Presidio', 431988),\n",
       " ('Mission', 1218976),\n",
       " ('Park', 541037),\n",
       " ('Marina', 460648),\n",
       " ('Parkside', 779591),\n",
       " ('Eureka Valley/Harvey Milk Memorial', 695263),\n",
       " ('Anza', 682381),\n",
       " ('West Portal', 1192880),\n",
       " ('Ingleside', 715858),\n",
       " ('Bernal Heights', 527872),\n",
       " ('Portola', 522796),\n",
       " ('Ortega', 1479485),\n",
       " ('Western Addition', 684442),\n",
       " ('Unknown', 147566),\n",
       " ('Ocean View', 169801),\n",
       " ('Glen Park', 727642),\n",
       " ('Visitacion Valley', 280567),\n",
       " ('Bayview/Linda Brooks-Burton', 150966),\n",
       " ('Golden Gate Valley', 262226),\n",
       " ('Library on Wheels', 38256),\n",
       " (\"Children's Bookmobile\", 42837),\n",
       " ('Branch Bookmobile (Sunset)', 1741),\n",
       " ('Branch Bookmobile (West Portal)', 3956),\n",
       " ('Branch Bookmobile (Excelsior)', 2189),\n",
       " ('Branch Bookmobile (Marina)', 636)]"
      ]
     },
     "execution_count": 87,
     "metadata": {},
     "output_type": "execute_result"
    }
   ],
   "source": [
    "#---CORRECT-------------------------\n",
    "def number_renewals(xs):\n",
    "    locations = []\n",
    "    for x in xs:\n",
    "        if x['Home Library Definition'] not in locations:\n",
    "            locations.append(x['Home Library Definition'])\n",
    "    renewals = [0] * len(locations)\n",
    "    for x in xs:\n",
    "        renewals[locations.index(x['Home Library Definition'])] += int(x['Total Renewals'])\n",
    "    return zip(locations, renewals)\n",
    "    \n",
    "        \n",
    "number_renewals(patrons)\n"
   ]
  },
  {
   "cell_type": "code",
   "execution_count": null,
   "metadata": {},
   "outputs": [],
   "source": []
  }
 ],
 "metadata": {
  "kernelspec": {
   "display_name": "Python 3",
   "language": "python",
   "name": "python3"
  },
  "language_info": {
   "codemirror_mode": {
    "name": "ipython",
    "version": 3
   },
   "file_extension": ".py",
   "mimetype": "text/x-python",
   "name": "python",
   "nbconvert_exporter": "python",
   "pygments_lexer": "ipython3",
   "version": "3.6.5"
  }
 },
 "nbformat": 4,
 "nbformat_minor": 2
}
