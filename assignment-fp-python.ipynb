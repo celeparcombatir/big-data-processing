{
 "cells": [
  {
   "cell_type": "markdown",
   "metadata": {},
   "source": [
    "# Assignment on Programming Techniques for Big Data\n",
    "\n",
    "## Yoshi van den Akker and Georgios Gousios\n",
    "\n",
    "Functional programming is the basis of most modern Big Data processing systems.\n",
    "Before going forward to the course, it is important to master data processing\n",
    "techniques using a functional programming style. In this assignment, your task \n",
    "is to train yourselves in thinking in a functional way when processing data. \n",
    "\n",
    "Many of the the tasks below are easy, but some are not and require many\n",
    "iterations (and extensive testing!) to get right. For some of them, you\n",
    "can find ready-made solutions on the internet. Even though it may be tempting,\n",
    "we advise you against copying and pasting them here, as you will regret it\n",
    "later on in the course.\n",
    "[Wax on, wax off!](https://www.youtube.com/watch?v=fULNUr0rvEc)\n",
    "\n",
    "\n",
    "This assignment has a total of *115* points. Your grade is calculated with `min(points/11, 10)`, i.e. you need 110 points for a 10.\n",
    "\n",
    "A few notes:\n",
    "* For each function you define, you also need to define at least one working example.\n",
    "* Do not change the given function signatures, otherwise automated tests will fail.\n",
    "* The tests will run every cell. Make sure no errors occur by testing this via Cell -> Run All.\n",
    "* Use functional programming for every question (besides the first section).\n",
    "* This assignment requires you to use Python 3."
   ]
  },
  {
   "cell_type": "markdown",
   "metadata": {},
   "source": [
    "## Foundations of functional programming\n",
    "\n",
    "In this part you will implement core functions that are vital to functional programming."
   ]
  },
  {
   "cell_type": "markdown",
   "metadata": {},
   "source": [
    "**T** (5pts): Implement `map` using iteration for lists/arrays"
   ]
  },
  {
   "cell_type": "code",
   "execution_count": 51,
   "metadata": {},
   "outputs": [
    {
     "data": {
      "text/plain": [
       "[0, 2, 4, 6, 8, 10, 12]"
      ]
     },
     "execution_count": 51,
     "metadata": {},
     "output_type": "execute_result"
    }
   ],
   "source": [
    "#---CORRECT-------------------------\n",
    "def map(func, xs):\n",
    "    xss = list(range(len(xs)))\n",
    "    for i in xs:\n",
    "        xss[xs.index(i)] = func(i)\n",
    "    xs = xss\n",
    "    return xs\n",
    "    pass\n",
    "\n",
    "map(lambda x: x*2, range(7))\n"
   ]
  },
  {
   "cell_type": "markdown",
   "metadata": {},
   "source": [
    "**T** (5pts): Implement `filter` using iteration for lists/arrays"
   ]
  },
  {
   "cell_type": "code",
   "execution_count": 2,
   "metadata": {},
   "outputs": [
    {
     "data": {
      "text/plain": [
       "[0, 2, 4, 6]"
      ]
     },
     "execution_count": 2,
     "metadata": {},
     "output_type": "execute_result"
    }
   ],
   "source": [
    "#---CORRECT-------------------------\n",
    "def filter(func, xs):\n",
    "    result = []\n",
    "    for i in xs:\n",
    "        if func(i):\n",
    "            result.append(i)\n",
    "    return result\n",
    "    pass\n",
    "\n",
    "filter(lambda x: x % 2 == 0, range(7))\n"
   ]
  },
  {
   "cell_type": "markdown",
   "metadata": {},
   "source": [
    "**T** (5pts): Implement `reduceR` using iteration for lists/arrays"
   ]
  },
  {
   "cell_type": "code",
   "execution_count": 7,
   "metadata": {},
   "outputs": [
    {
     "data": {
      "text/plain": [
       "3"
      ]
     },
     "execution_count": 7,
     "metadata": {},
     "output_type": "execute_result"
    }
   ],
   "source": [
    "#---CORRECT-------------------------\n",
    "def reduceR(func, xs, init):\n",
    "    length_list = len(xs)\n",
    "    for i in range(1, length_list + 1):\n",
    "        init = func(xs[length_list - i], init)\n",
    "    return init\n",
    "    pass\n",
    "\n",
    "reduceR(lambda x, y: x-y, range(7), 0)\n"
   ]
  },
  {
   "cell_type": "markdown",
   "metadata": {},
   "source": [
    "**T** (5pts): Implement a function `flatten(xs: [[A]]): [A]` that converts a list of \n",
    "lists into a list formed by the elements of these lists. For example:\n",
    "\n",
    "```python\n",
    ">>> a = [[1,2],[2,3],[3,[4]]]\n",
    ">>> flatten(a)\n",
    "[1,2,2,3,3,[4]]\n",
    "```"
   ]
  },
  {
   "cell_type": "code",
   "execution_count": 35,
   "metadata": {},
   "outputs": [
    {
     "data": {
      "text/plain": [
       "[1, 2, 3, 4, 5, 7, [8, 9]]"
      ]
     },
     "execution_count": 35,
     "metadata": {},
     "output_type": "execute_result"
    }
   ],
   "source": [
    "#---CORRECT-------------------------\n",
    "def flatten(xss):\n",
    "    result = []\n",
    "    for i in xss:\n",
    "        for n in i:\n",
    "            result.append(n)\n",
    "    return result\n",
    "    pass\n",
    "\n",
    "\n",
    "flatten([[1,2,3],[4,5], [7,[8,9]]])\n"
   ]
  },
  {
   "cell_type": "markdown",
   "metadata": {},
   "source": [
    "## More basic functions\n",
    "\n",
    "In every implementation from now (also in next steps)on you should reuse at least one of your answers to an earlier question."
   ]
  },
  {
   "cell_type": "markdown",
   "metadata": {},
   "source": [
    "**T** (5pts): Implement `reduceL` by reusing `reduceR`"
   ]
  },
  {
   "cell_type": "code",
   "execution_count": 8,
   "metadata": {},
   "outputs": [
    {
     "data": {
      "text/plain": [
       "3"
      ]
     },
     "execution_count": 8,
     "metadata": {},
     "output_type": "execute_result"
    }
   ],
   "source": [
    "#---Non-commutative operation not working\n",
    "#---4 points out of 5\n",
    "def reduceL(func, xs, init):\n",
    "    reduce_left = reduceR(func, list(reversed(xs)), init)\n",
    "    return(reduce_left)\n",
    "    pass\n",
    "\n",
    "reduceL(lambda x, y: x-y, range(7), 0)\n",
    "\n"
   ]
  },
  {
   "cell_type": "markdown",
   "metadata": {},
   "source": [
    "**T** (10pts): Implement `group_by` by reusing `reduceL`."
   ]
  },
  {
   "cell_type": "code",
   "execution_count": 20,
   "metadata": {},
   "outputs": [
    {
     "data": {
      "text/plain": [
       "{'even': [0, 2, 4, 6, 8], 'odd': [1, 3, 5, 7, 9]}"
      ]
     },
     "execution_count": 20,
     "metadata": {},
     "output_type": "execute_result"
    }
   ],
   "source": [
    "#---group by works but don't know what to do with reduceL\n",
    "def group_by(classifier, xs):\n",
    "    result = dict()\n",
    "    for x in xs:\n",
    "        key = classifier(x)\n",
    "        if key in result.keys():\n",
    "            result[key].append(x)\n",
    "        else:\n",
    "            result[key] = [x]\n",
    "    return result\n",
    "    pass\n",
    "\n",
    "\n",
    "group_by(lambda x: \"even\" if x % 2 == 0 else \"odd\", range(10))\n"
   ]
  },
  {
   "cell_type": "markdown",
   "metadata": {},
   "source": [
    "## Simple data processing\n",
    "\n"
   ]
  },
  {
   "cell_type": "markdown",
   "metadata": {},
   "source": [
    "**T** (5pts): Implement `distinct` using `reduceL`."
   ]
  },
  {
   "cell_type": "code",
   "execution_count": 30,
   "metadata": {},
   "outputs": [
    {
     "ename": "TypeError",
     "evalue": "argument of type 'int' is not iterable",
     "output_type": "error",
     "traceback": [
      "\u001b[1;31m---------------------------------------------------------------------------\u001b[0m",
      "\u001b[1;31mTypeError\u001b[0m                                 Traceback (most recent call last)",
      "\u001b[1;32m<ipython-input-30-34112f1e5171>\u001b[0m in \u001b[0;36m<module>\u001b[1;34m()\u001b[0m\n\u001b[0;32m      9\u001b[0m \u001b[1;33m\u001b[0m\u001b[0m\n\u001b[0;32m     10\u001b[0m \u001b[0ma\u001b[0m \u001b[1;33m=\u001b[0m \u001b[1;33m[\u001b[0m\u001b[1;36m1\u001b[0m\u001b[1;33m,\u001b[0m\u001b[1;36m2\u001b[0m\u001b[1;33m,\u001b[0m\u001b[1;36m3\u001b[0m\u001b[1;33m,\u001b[0m\u001b[1;36m1\u001b[0m\u001b[1;33m,\u001b[0m\u001b[1;36m2\u001b[0m\u001b[1;33m,\u001b[0m\u001b[1;36m3\u001b[0m\u001b[1;33m,\u001b[0m\u001b[1;36m4\u001b[0m\u001b[1;33m,\u001b[0m\u001b[1;36m5\u001b[0m\u001b[1;33m,\u001b[0m\u001b[1;36m6\u001b[0m\u001b[1;33m,\u001b[0m\u001b[1;36m5\u001b[0m\u001b[1;33m,\u001b[0m\u001b[1;36m4\u001b[0m\u001b[1;33m,\u001b[0m\u001b[1;36m3\u001b[0m\u001b[1;33m,\u001b[0m\u001b[1;36m2\u001b[0m\u001b[1;33m,\u001b[0m\u001b[1;36m1\u001b[0m\u001b[1;33m]\u001b[0m\u001b[1;33m\u001b[0m\u001b[0m\n\u001b[1;32m---> 11\u001b[1;33m \u001b[0mdistinct\u001b[0m\u001b[1;33m(\u001b[0m\u001b[0ma\u001b[0m\u001b[1;33m)\u001b[0m\u001b[1;33m\u001b[0m\u001b[0m\n\u001b[0m",
      "\u001b[1;32m<ipython-input-30-34112f1e5171>\u001b[0m in \u001b[0;36mdistinct\u001b[1;34m(some_list)\u001b[0m\n\u001b[0;32m      5\u001b[0m             \u001b[0msome_list\u001b[0m\u001b[1;33m.\u001b[0m\u001b[0mappend\u001b[0m\u001b[1;33m(\u001b[0m\u001b[0mitem\u001b[0m\u001b[1;33m)\u001b[0m\u001b[1;33m\u001b[0m\u001b[0m\n\u001b[0;32m      6\u001b[0m         \u001b[1;32mreturn\u001b[0m \u001b[0msome_list\u001b[0m\u001b[1;33m\u001b[0m\u001b[0m\n\u001b[1;32m----> 7\u001b[1;33m     \u001b[1;32mreturn\u001b[0m \u001b[0mreduceL\u001b[0m\u001b[1;33m(\u001b[0m\u001b[0mdist_maker\u001b[0m\u001b[1;33m,\u001b[0m \u001b[0msome_list\u001b[0m\u001b[1;33m,\u001b[0m \u001b[1;33m[\u001b[0m\u001b[1;33m]\u001b[0m\u001b[1;33m)\u001b[0m\u001b[1;33m\u001b[0m\u001b[0m\n\u001b[0m\u001b[0;32m      8\u001b[0m     \u001b[1;32mpass\u001b[0m\u001b[1;33m\u001b[0m\u001b[0m\n\u001b[0;32m      9\u001b[0m \u001b[1;33m\u001b[0m\u001b[0m\n",
      "\u001b[1;32m<ipython-input-8-aeca1f1d80e1>\u001b[0m in \u001b[0;36mreduceL\u001b[1;34m(func, xs, init)\u001b[0m\n\u001b[0;32m      2\u001b[0m \u001b[1;31m#---4 points out of 5\u001b[0m\u001b[1;33m\u001b[0m\u001b[1;33m\u001b[0m\u001b[0m\n\u001b[0;32m      3\u001b[0m \u001b[1;32mdef\u001b[0m \u001b[0mreduceL\u001b[0m\u001b[1;33m(\u001b[0m\u001b[0mfunc\u001b[0m\u001b[1;33m,\u001b[0m \u001b[0mxs\u001b[0m\u001b[1;33m,\u001b[0m \u001b[0minit\u001b[0m\u001b[1;33m)\u001b[0m\u001b[1;33m:\u001b[0m\u001b[1;33m\u001b[0m\u001b[0m\n\u001b[1;32m----> 4\u001b[1;33m     \u001b[0mreduce_left\u001b[0m \u001b[1;33m=\u001b[0m \u001b[0mreduceR\u001b[0m\u001b[1;33m(\u001b[0m\u001b[0mfunc\u001b[0m\u001b[1;33m,\u001b[0m \u001b[0mlist\u001b[0m\u001b[1;33m(\u001b[0m\u001b[0mreversed\u001b[0m\u001b[1;33m(\u001b[0m\u001b[0mxs\u001b[0m\u001b[1;33m)\u001b[0m\u001b[1;33m)\u001b[0m\u001b[1;33m,\u001b[0m \u001b[0minit\u001b[0m\u001b[1;33m)\u001b[0m\u001b[1;33m\u001b[0m\u001b[0m\n\u001b[0m\u001b[0;32m      5\u001b[0m     \u001b[1;32mreturn\u001b[0m\u001b[1;33m(\u001b[0m\u001b[0mreduce_left\u001b[0m\u001b[1;33m)\u001b[0m\u001b[1;33m\u001b[0m\u001b[0m\n\u001b[0;32m      6\u001b[0m     \u001b[1;32mpass\u001b[0m\u001b[1;33m\u001b[0m\u001b[0m\n",
      "\u001b[1;32m<ipython-input-7-d6f61ae6c60e>\u001b[0m in \u001b[0;36mreduceR\u001b[1;34m(func, xs, init)\u001b[0m\n\u001b[0;32m      3\u001b[0m     \u001b[0mlength_list\u001b[0m \u001b[1;33m=\u001b[0m \u001b[0mlen\u001b[0m\u001b[1;33m(\u001b[0m\u001b[0mxs\u001b[0m\u001b[1;33m)\u001b[0m\u001b[1;33m\u001b[0m\u001b[0m\n\u001b[0;32m      4\u001b[0m     \u001b[1;32mfor\u001b[0m \u001b[0mi\u001b[0m \u001b[1;32min\u001b[0m \u001b[0mrange\u001b[0m\u001b[1;33m(\u001b[0m\u001b[1;36m1\u001b[0m\u001b[1;33m,\u001b[0m \u001b[0mlength_list\u001b[0m \u001b[1;33m+\u001b[0m \u001b[1;36m1\u001b[0m\u001b[1;33m)\u001b[0m\u001b[1;33m:\u001b[0m\u001b[1;33m\u001b[0m\u001b[0m\n\u001b[1;32m----> 5\u001b[1;33m         \u001b[0minit\u001b[0m \u001b[1;33m=\u001b[0m \u001b[0mfunc\u001b[0m\u001b[1;33m(\u001b[0m\u001b[0mxs\u001b[0m\u001b[1;33m[\u001b[0m\u001b[0mlength_list\u001b[0m \u001b[1;33m-\u001b[0m \u001b[0mi\u001b[0m\u001b[1;33m]\u001b[0m\u001b[1;33m,\u001b[0m \u001b[0minit\u001b[0m\u001b[1;33m)\u001b[0m\u001b[1;33m\u001b[0m\u001b[0m\n\u001b[0m\u001b[0;32m      6\u001b[0m     \u001b[1;32mreturn\u001b[0m \u001b[0minit\u001b[0m\u001b[1;33m\u001b[0m\u001b[0m\n\u001b[0;32m      7\u001b[0m     \u001b[1;32mpass\u001b[0m\u001b[1;33m\u001b[0m\u001b[0m\n",
      "\u001b[1;32m<ipython-input-30-34112f1e5171>\u001b[0m in \u001b[0;36mdist_maker\u001b[1;34m(some_list, item)\u001b[0m\n\u001b[0;32m      2\u001b[0m \u001b[1;32mdef\u001b[0m \u001b[0mdistinct\u001b[0m\u001b[1;33m(\u001b[0m\u001b[0msome_list\u001b[0m\u001b[1;33m)\u001b[0m\u001b[1;33m:\u001b[0m\u001b[1;33m\u001b[0m\u001b[0m\n\u001b[0;32m      3\u001b[0m     \u001b[1;32mdef\u001b[0m \u001b[0mdist_maker\u001b[0m\u001b[1;33m(\u001b[0m\u001b[0msome_list\u001b[0m\u001b[1;33m,\u001b[0m \u001b[0mitem\u001b[0m\u001b[1;33m)\u001b[0m\u001b[1;33m:\u001b[0m\u001b[1;33m\u001b[0m\u001b[0m\n\u001b[1;32m----> 4\u001b[1;33m         \u001b[1;32mif\u001b[0m \u001b[0mitem\u001b[0m \u001b[1;32mnot\u001b[0m \u001b[1;32min\u001b[0m \u001b[0msome_list\u001b[0m\u001b[1;33m:\u001b[0m\u001b[1;33m\u001b[0m\u001b[0m\n\u001b[0m\u001b[0;32m      5\u001b[0m             \u001b[0msome_list\u001b[0m\u001b[1;33m.\u001b[0m\u001b[0mappend\u001b[0m\u001b[1;33m(\u001b[0m\u001b[0mitem\u001b[0m\u001b[1;33m)\u001b[0m\u001b[1;33m\u001b[0m\u001b[0m\n\u001b[0;32m      6\u001b[0m         \u001b[1;32mreturn\u001b[0m \u001b[0msome_list\u001b[0m\u001b[1;33m\u001b[0m\u001b[0m\n",
      "\u001b[1;31mTypeError\u001b[0m: argument of type 'int' is not iterable"
     ]
    }
   ],
   "source": [
    "#---TODO--\n",
    "def distinct(some_list):\n",
    "    def dist_maker(some_list, item):\n",
    "        if item not in some_list:\n",
    "            some_list.append(item)\n",
    "        return some_list\n",
    "    return reduceL(dist_maker, some_list, [])\n",
    "    pass\n",
    "\n",
    "a = [1,2,3,1,2,3,4,5,6,5,4,3,2,1]\n",
    "distinct(a)"
   ]
  },
  {
   "cell_type": "markdown",
   "metadata": {},
   "source": [
    "**T** (5pts): Implement `flatmap`."
   ]
  },
  {
   "cell_type": "code",
   "execution_count": 32,
   "metadata": {
    "scrolled": true
   },
   "outputs": [
    {
     "data": {
      "text/plain": [
       "[[], [0], [0, 1], [0, 1, 2], [0, 1, 2, 3]]"
      ]
     },
     "execution_count": 32,
     "metadata": {},
     "output_type": "execute_result"
    }
   ],
   "source": [
    "def flatmap(func, xs):\n",
    "    result = []\n",
    "    for x in xs:\n",
    "        result.append(func(x))\n",
    "    return result\n",
    "    pass\n",
    "\n",
    "flatmap(lambda x: list(range(x)), range(5))"
   ]
  },
  {
   "cell_type": "markdown",
   "metadata": {},
   "source": [
    "**T** (5pts): Implement `max(xs: [Integer]): Integer` that finds the largest value in `xs`. You can assume the list is non-empty."
   ]
  },
  {
   "cell_type": "code",
   "execution_count": null,
   "metadata": {},
   "outputs": [],
   "source": [
    "def max(xs):\n",
    "    pass\n",
    "\n",
    "max([1,59,42,27,38])"
   ]
  },
  {
   "cell_type": "markdown",
   "metadata": {},
   "source": [
    "## Higher-order functions\n",
    "\n",
    "\n",
    "**T** (10pts): Implement a function called `drop_while(f: A -> Boolean, xs: [A]) : [A]` \n",
    "that drops the longest prefix of elements from `xs` that satisfy `f`.\n",
    "\n",
    "```python\n",
    ">>> a = [1,2,3,4,5,6]\n",
    ">>> dropWhile(lambda x: x <= 3, a)\n",
    "[4,5,6]\n",
    "```"
   ]
  },
  {
   "cell_type": "code",
   "execution_count": null,
   "metadata": {},
   "outputs": [],
   "source": [
    "def drop_while(func, xs):\n",
    "    pass\n",
    "\n",
    "drop_while(lambda x: x <= 3, [1,2,1,3,5,3,1,4,1,5,6])"
   ]
  },
  {
   "cell_type": "markdown",
   "metadata": {},
   "source": [
    "**T** (10pts): Implement a function `zip(xs: [A], ys: [B]): List[(A,B)]` that returns a list formed from this list and another list by combining the corresponding elements in pairs. If one of the two lists is longer \n",
    "than the other, its remaining elements are ignored. \n",
    "\n",
    "```python\n",
    ">>> a = [1,2,3,4]\n",
    ">>> b = [a,b,c,d,e]\n",
    ">>> zip(a,b)\n",
    "[(1, 'a'), (2, 'b'), (3, 'c'), (4,'d')]\n",
    "```"
   ]
  },
  {
   "cell_type": "code",
   "execution_count": null,
   "metadata": {
    "scrolled": true
   },
   "outputs": [],
   "source": [
    "def zip(xs, ys):\n",
    "    pass\n",
    "    \n",
    "a = [2,3,4]\n",
    "b = ['a','b','c','d']\n",
    "zip(a,b)"
   ]
  },
  {
   "cell_type": "markdown",
   "metadata": {},
   "source": [
    "**T** (10pts): Implement a function \n",
    "`scanL(f: (acc: B, x: A) -> B, xs: [A], init: B) -> [B]`\n",
    "that works like `reduceL` but instead of producing one final result, it also\n",
    "returns all the intermediate results.\n",
    "\n",
    "```python\n",
    ">>> a = [2,3,4]\n",
    ">>> scanL(a, 0, lambda x, y: x + y)\n",
    "[0, 2, 5, 9]\n",
    "```"
   ]
  },
  {
   "cell_type": "code",
   "execution_count": null,
   "metadata": {},
   "outputs": [],
   "source": [
    "def scanL(func, xs, init):\n",
    "    pass\n",
    "    \n",
    "scanL(lambda x, y: x + y, [2,3,4], 0)"
   ]
  },
  {
   "cell_type": "markdown",
   "metadata": {},
   "source": [
    "## Real life application\n",
    "\n",
    "In the following questions you will solve realistic problems with the techniques you learned in this assignment. You will be working with data of San Francisco Library patrons. You can find the data file [here](https://drive.google.com/open?id=1sYTB_gR4Ig0Aww9QBN9wRdaLWVdBVD62). Below you can find what each field means.\n",
    "\n",
    "* Id: Id of patron\n",
    "* Patron Type Definition: Description of patron (adult, teen, child, senior, etc.).\n",
    "* Total Checkouts: Total number of items the patron has checked out from the library since the record was created.\n",
    "* Total Renewals: Total number of times the patron has renewed checked-out items.\n",
    "* Age Range: Age ranges: 0 to 9 years, 10 to 19 years, 20 to 24 years, 25 to 34 years, 35 to 44 years, 45 to 54 years, 55 to 59 years, 60 to 64 years 65 to 74 years, 75 years and over. Some blank.\n",
    "* Home Library Definition: Description of the branch library where the patron was originally registered.\n",
    "* Circulation Active Month: Month the patron last checked out library materials, or last logged into the library’s subscription databases from a computer outside the library.\n",
    "* Circulation Active Year: Year the patron last checked out library materials, or last logged into the library’s subscription databases from a computer outside the library.\n",
    "* Notice Preference Definition: Description of the patron’s preferred method of receiving library notices.\n",
    "* Provided Email Address: Indicates whether the patron provided an email address.\n",
    "* Year Patron Registered: Year patron registered with library system. No dates prior to 2003 due to system migration.\n",
    "* Outside of County: If a patron's home address is not in San Francisco, then flagged as true, otherwise false.\n",
    "* Supervisor District: Based on patron address: San Francisco Supervisor District. Note: This is an automated field, please note that if \"Outside of County\" is true, then there will be no supervisor district. Also, if the input address was not well-formed, the supervisor district will be blank.\n",
    "\n",
    "Solve the following questions using functions you implemented earlier. The code for reading the file is already given. Hint: for testing purposes it could be beneficial to only use a small part of the dataset."
   ]
  },
  {
   "cell_type": "code",
   "execution_count": null,
   "metadata": {},
   "outputs": [],
   "source": [
    "# This snippet imports the csv file to a list of dicts\n",
    "\n",
    "import csv\n",
    "file = 'library.csv' # Change this filepath to the location of your file if necessary\n",
    "patrons = []\n",
    "try: \n",
    "    with open(file) as fh:\n",
    "        rd = csv.DictReader(fh, delimiter=',') \n",
    "        for row in rd:\n",
    "            patrons.append(row)\n",
    "except FileNotFoundError as e:\n",
    "    print(e)"
   ]
  },
  {
   "cell_type": "markdown",
   "metadata": {},
   "source": [
    "**T** (10pts) Some patrons have indicated that they want to receive notices via email, but have not provided their email address. Implement a function that outputs a list of the IDs of these patrons."
   ]
  },
  {
   "cell_type": "code",
   "execution_count": null,
   "metadata": {},
   "outputs": [],
   "source": [
    "def missing_email(xs):\n",
    "    pass\n",
    "\n",
    "missing_email(patrons)"
   ]
  },
  {
   "cell_type": "markdown",
   "metadata": {},
   "source": [
    "**T** (10pts) Implement a function that outputs the total amount of checkouts from members originally registered at a given location.\n",
    "\n",
    "```python\n",
    ">>> checkouts(patrons, \"Noe Valley/Sally Brunn\")\n",
    "1355624\n",
    "```"
   ]
  },
  {
   "cell_type": "code",
   "execution_count": null,
   "metadata": {},
   "outputs": [],
   "source": [
    "def checkouts(xs, location):\n",
    "    pass\n",
    "\n",
    "checkouts(patrons, \"Mission\")"
   ]
  },
  {
   "cell_type": "markdown",
   "metadata": {},
   "source": [
    "**T** (15pts) Implement a function that lists the number of renewals per location in a tuple. Example output for part of the dataset:\n",
    "\n",
    "```python\n",
    ">>> number_renewals(patrons)\n",
    "\n",
    "[('Presidio', 431988),\n",
    " ('Mission', 1218976)]\n",
    "```"
   ]
  },
  {
   "cell_type": "code",
   "execution_count": null,
   "metadata": {},
   "outputs": [],
   "source": [
    "def number_renewals(xs):\n",
    "    pass\n",
    "\n",
    "number_renewals(patrons)"
   ]
  }
 ],
 "metadata": {
  "kernelspec": {
   "display_name": "Python 3",
   "language": "python",
   "name": "python3"
  },
  "language_info": {
   "codemirror_mode": {
    "name": "ipython",
    "version": 3
   },
   "file_extension": ".py",
   "mimetype": "text/x-python",
   "name": "python",
   "nbconvert_exporter": "python",
   "pygments_lexer": "ipython3",
   "version": "3.6.5"
  }
 },
 "nbformat": 4,
 "nbformat_minor": 2
}
